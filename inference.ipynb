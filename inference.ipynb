{
 "cells": [
  {
   "cell_type": "code",
   "execution_count": 1,
   "id": "558c2029",
   "metadata": {},
   "outputs": [],
   "source": [
    "import torch\n",
    "from torch.autograd import Variable\n",
    "import torch.nn.functional as F\n",
    "from torch.utils import data\n",
    "from torch import nn \n",
    "import copy\n",
    "\n",
    "from tqdm import tqdm\n",
    "import matplotlib.pyplot as plt\n",
    "import numpy as np\n",
    "import pandas as pd\n",
    "from time import time\n",
    "from sklearn.metrics import roc_auc_score, average_precision_score, f1_score, roc_curve, confusion_matrix, precision_score, recall_score, auc\n",
    "from sklearn.model_selection import KFold\n",
    "torch.manual_seed(1)    # reproducible torch:2 np:3\n",
    "np.random.seed(1)\n",
    "\n",
    "from config import BIN_config_DBPE\n",
    "from models import BIN_Interaction_Flat\n",
    "from stream import BIN_Data_Encoder\n",
    "\n",
    "use_cuda = torch.cuda.is_available()\n",
    "device = torch.device(\"cuda:0\" if use_cuda else \"cpu\")"
   ]
  },
  {
   "cell_type": "markdown",
   "id": "3d521470",
   "metadata": {},
   "source": [
    "# Select which model to use"
   ]
  },
  {
   "cell_type": "code",
   "execution_count": 2,
   "id": "cf880233",
   "metadata": {},
   "outputs": [],
   "source": [
    "import os\n",
    "\n",
    "model_dir = r\"/home/ken/projects/MolTrans/results/davis/20220519_124222/train/model_dir\""
   ]
  },
  {
   "cell_type": "markdown",
   "id": "a327851d",
   "metadata": {},
   "source": [
    "# Load the configurations"
   ]
  },
  {
   "cell_type": "code",
   "execution_count": 3,
   "id": "ed1cee0e",
   "metadata": {},
   "outputs": [],
   "source": [
    "config = BIN_config_DBPE()"
   ]
  },
  {
   "cell_type": "code",
   "execution_count": 4,
   "id": "3498ab65",
   "metadata": {},
   "outputs": [
    {
     "data": {
      "text/plain": [
       "{'batch_size': 16,\n",
       " 'input_dim_drug': 23532,\n",
       " 'input_dim_target': 16693,\n",
       " 'train_epoch': 50,\n",
       " 'max_drug_seq': 50,\n",
       " 'max_protein_seq': 545,\n",
       " 'emb_size': 384,\n",
       " 'dropout_rate': 0.1,\n",
       " 'scale_down_ratio': 0.25,\n",
       " 'growth_rate': 20,\n",
       " 'transition_rate': 0.5,\n",
       " 'num_dense_blocks': 4,\n",
       " 'kernal_dense_size': 3,\n",
       " 'intermediate_size': 1536,\n",
       " 'num_attention_heads': 12,\n",
       " 'attention_probs_dropout_prob': 0.1,\n",
       " 'hidden_dropout_prob': 0.1,\n",
       " 'flat_dim': 78192}"
      ]
     },
     "execution_count": 4,
     "metadata": {},
     "output_type": "execute_result"
    }
   ],
   "source": [
    "config"
   ]
  },
  {
   "cell_type": "code",
   "execution_count": 5,
   "id": "29a9a451",
   "metadata": {},
   "outputs": [],
   "source": [
    "model = BIN_Interaction_Flat(**config)\n",
    "\n",
    "model = model.cuda()"
   ]
  },
  {
   "cell_type": "markdown",
   "id": "deec7520",
   "metadata": {},
   "source": [
    "# Load the model"
   ]
  },
  {
   "cell_type": "code",
   "execution_count": 6,
   "id": "a7feb591",
   "metadata": {},
   "outputs": [
    {
     "data": {
      "text/plain": [
       "<All keys matched successfully>"
      ]
     },
     "execution_count": 6,
     "metadata": {},
     "output_type": "execute_result"
    }
   ],
   "source": [
    "# original saved file with DataParallel\n",
    "state_dict = torch.load(os.path.join(model_dir, \"max-model.ckpt\"))\n",
    "# create new OrderedDict that does not contain `module.`\n",
    "from collections import OrderedDict\n",
    "new_state_dict = OrderedDict()\n",
    "for k, v in state_dict.items():\n",
    "    name = k[7:] # remove `module.`\n",
    "    new_state_dict[name] = v\n",
    "# load params\n",
    "model.load_state_dict(new_state_dict)"
   ]
  },
  {
   "cell_type": "markdown",
   "id": "ef15bf24",
   "metadata": {},
   "source": [
    "# Protein Embedding and Fasta Embedding"
   ]
  },
  {
   "cell_type": "code",
   "execution_count": 7,
   "id": "50339db8",
   "metadata": {},
   "outputs": [],
   "source": [
    "from stream import protein2emb_encoder, drug2emb_encoder"
   ]
  },
  {
   "cell_type": "code",
   "execution_count": 8,
   "id": "7d411474",
   "metadata": {},
   "outputs": [],
   "source": [
    "params = {'batch_size': 4,\n",
    "          'shuffle': True,\n",
    "          'num_workers': 0,\n",
    "          'drop_last': True}"
   ]
  },
  {
   "cell_type": "code",
   "execution_count": 9,
   "id": "66b9d0c8",
   "metadata": {},
   "outputs": [],
   "source": [
    "dataFolder = './dataset/DAVIS'\n",
    "df_test = pd.read_csv(dataFolder + '/test.csv')\n",
    "testing_set = BIN_Data_Encoder(df_test.index.values, df_test.Label.values, df_test)\n",
    "testing_generator = data.DataLoader(testing_set, **params)"
   ]
  },
  {
   "cell_type": "code",
   "execution_count": 13,
   "id": "6c764f38",
   "metadata": {},
   "outputs": [
    {
     "name": "stdout",
     "output_type": "stream",
     "text": [
      "tensor([[False],\n",
      "        [False]], device='cuda:0')\n"
     ]
    }
   ],
   "source": [
    "for i, (d, p, d_mask, p_mask, label) in enumerate(testing_generator):\n",
    "    model.eval()\n",
    "    score, i_map = model(d.long().cuda(), p.long().cuda(), d_mask.long().cuda(), p_mask.long().cuda())\n",
    "    score_1, i_map_1 = model(d.long().cuda(), p.long().cuda(), d_mask.long().cuda(), p_mask.long().cuda())\n",
    "    print(score == score_1)\n",
    "    break"
   ]
  },
  {
   "cell_type": "markdown",
   "id": "ff6e38bd",
   "metadata": {},
   "source": [
    "d_v_tensor = torch.from_numpy(d_v).long().cuda().unsqueeze(0)\n",
    "input_mask_d_tensor = torch.from_numpy(input_mask_d).long().cuda().unsqueeze(0)\n",
    "p_v_tensor = torch.from_numpy(p_v).long().cuda().unsqueeze(0)\n",
    "input_mask_p_tensor = torch.from_numpy(input_mask_p).long().cuda().unsqueeze(0)\n",
    "score = model.forward(d_v_tensor, \n",
    "                      p_v_tensor, \n",
    "                      input_mask_d_tensor, \n",
    "                      input_mask_p_tensor)\n",
    "print(score.shape)\n",
    "m = torch.nn.Sigmoid()\n",
    "logits = torch.squeeze(m(score))\n",
    "logits = logits.detach().cpu().numpy()\n",
    "print(logits)"
   ]
  }
 ],
 "metadata": {
  "kernelspec": {
   "display_name": "Python 3 (ipykernel)",
   "language": "python",
   "name": "python3"
  },
  "language_info": {
   "codemirror_mode": {
    "name": "ipython",
    "version": 3
   },
   "file_extension": ".py",
   "mimetype": "text/x-python",
   "name": "python",
   "nbconvert_exporter": "python",
   "pygments_lexer": "ipython3",
   "version": "3.7.13"
  }
 },
 "nbformat": 4,
 "nbformat_minor": 5
}
