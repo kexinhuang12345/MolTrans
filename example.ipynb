{
 "cells": [
  {
   "cell_type": "code",
   "execution_count": 1,
   "metadata": {},
   "outputs": [],
   "source": [
    "import torch\n",
    "from torch.autograd import Variable\n",
    "import torch.nn.functional as F\n",
    "from torch.utils import data\n",
    "from torch import nn \n",
    "import copy\n",
    "\n",
    "from tqdm import tqdm\n",
    "import matplotlib.pyplot as plt\n",
    "import numpy as np\n",
    "import pandas as pd\n",
    "from time import time\n",
    "from sklearn.metrics import roc_auc_score, average_precision_score, f1_score, roc_curve, confusion_matrix, precision_score, recall_score, auc\n",
    "from sklearn.model_selection import KFold\n",
    "torch.manual_seed(2)    # reproducible torch:2 np:3\n",
    "np.random.seed(3)\n",
    "\n",
    "from config import BIN_config_DBPE\n",
    "from models import BIN_Interaction_Flat\n",
    "from stream import BIN_Data_Encoder\n",
    "\n",
    "use_cuda = torch.cuda.is_available()\n",
    "device = torch.device(\"cuda:0\" if use_cuda else \"cpu\")"
   ]
  },
  {
   "cell_type": "code",
   "execution_count": 2,
   "metadata": {},
   "outputs": [],
   "source": [
    "def test(data_generator, model):\n",
    "    y_pred = []\n",
    "    y_label = []\n",
    "    model.eval()\n",
    "    loss_accumulate = 0.0\n",
    "    count = 0.0\n",
    "    for i, (d, p, d_mask, p_mask, label) in enumerate(data_generator):\n",
    "        score, _ = model(d.long().cuda(), p.long().cuda(), d_mask.long().cuda(), p_mask.long().cuda())\n",
    "        \n",
    "        m = torch.nn.Sigmoid()\n",
    "        logits = torch.squeeze(m(score))\n",
    "        loss_fct = torch.nn.BCELoss()            \n",
    "        \n",
    "        label = Variable(torch.from_numpy(np.array(label)).float()).cuda()\n",
    "\n",
    "        loss = loss_fct(logits, label)\n",
    "        \n",
    "        loss_accumulate += loss\n",
    "        count += 1\n",
    "        \n",
    "        logits = logits.detach().cpu().numpy()\n",
    "        \n",
    "        label_ids = label.to('cpu').numpy()\n",
    "        y_label = y_label + label_ids.flatten().tolist()\n",
    "        y_pred = y_pred + logits.flatten().tolist()\n",
    "        \n",
    "    loss = loss_accumulate/count\n",
    "    \n",
    "    fpr, tpr, thresholds = roc_curve(y_label, y_pred)\n",
    "\n",
    "    precision = tpr / (tpr + fpr)\n",
    "\n",
    "    f1 = 2 * precision * tpr / (tpr + precision + 0.00001)\n",
    "\n",
    "    thred_optim = thresholds[5:][np.argmax(f1[5:])]\n",
    "\n",
    "    print(\"optimal threshold: \" + str(thred_optim))\n",
    "\n",
    "    y_pred_s = [1 if i else 0 for i in (y_pred >= thred_optim)]\n",
    "\n",
    "    auc_k = auc(fpr, tpr)\n",
    "    print(\"AUROC:\" + str(auc_k))\n",
    "    print(\"AUPRC: \"+ str(average_precision_score(y_label, y_pred)))\n",
    "\n",
    "    cm1 = confusion_matrix(y_label, y_pred_s)\n",
    "    print('Confusion Matrix : \\n', cm1)\n",
    "    print('Recall : ', recall_score(y_label, y_pred_s))\n",
    "    print('Precision : ', precision_score(y_label, y_pred_s))\n",
    "\n",
    "    total1=sum(sum(cm1))\n",
    "    #####from confusion matrix calculate accuracy\n",
    "    accuracy1=(cm1[0,0]+cm1[1,1])/total1\n",
    "    print ('Accuracy : ', accuracy1)\n",
    "\n",
    "    sensitivity1 = cm1[0,0]/(cm1[0,0]+cm1[0,1])\n",
    "    print('Sensitivity : ', sensitivity1 )\n",
    "\n",
    "    specificity1 = cm1[1,1]/(cm1[1,0]+cm1[1,1])\n",
    "    print('Specificity : ', specificity1)\n",
    "\n",
    "    outputs = np.asarray([1 if i else 0 for i in (np.asarray(y_pred) >= 0.5)])\n",
    "    return roc_auc_score(y_label, y_pred), average_precision_score(y_label, y_pred), f1_score(y_label, outputs), y_pred, loss.item()\n",
    "\n",
    "\n",
    "def main(fold_n, lr):\n",
    "    config = BIN_config_DBPE()\n",
    "    \n",
    "    lr = lr\n",
    "    BATCH_SIZE = config['batch_size']\n",
    "    train_epoch = 100\n",
    "    \n",
    "    loss_history = []\n",
    "    \n",
    "    model = BIN_Interaction_Flat(**config)\n",
    "    \n",
    "    model = model.cuda()\n",
    "\n",
    "    if torch.cuda.device_count() > 1:\n",
    "        print(\"Let's use\", torch.cuda.device_count(), \"GPUs!\")\n",
    "        model = nn.DataParallel(model, dim = 0)\n",
    "            \n",
    "    opt = torch.optim.Adam(model.parameters(), lr = lr)\n",
    "    #opt = torch.optim.SGD(model.parameters(), lr = lr, momentum=0.9)\n",
    "    \n",
    "    print('--- Data Preparation ---')\n",
    "    \n",
    "    params = {'batch_size': BATCH_SIZE,\n",
    "              'shuffle': True,\n",
    "              'num_workers': 6, \n",
    "              'drop_last': True}\n",
    "\n",
    "    dataFolder = './dataset/BindingDB'\n",
    "    df_train = pd.read_csv(dataFolder + '/train.csv')\n",
    "    df_val = pd.read_csv(dataFolder + '/val.csv')\n",
    "    df_test = pd.read_csv(dataFolder + '/test.csv')\n",
    "    \n",
    "    training_set = BIN_Data_Encoder(df_train.index.values, df_train.Label.values, df_train)\n",
    "    training_generator = data.DataLoader(training_set, **params)\n",
    "\n",
    "    validation_set = BIN_Data_Encoder(df_val.index.values, df_val.Label.values, df_val)\n",
    "    validation_generator = data.DataLoader(validation_set, **params)\n",
    "    \n",
    "    testing_set = BIN_Data_Encoder(df_test.index.values, df_test.Label.values, df_test)\n",
    "    testing_generator = data.DataLoader(testing_set, **params)\n",
    "    \n",
    "    # early stopping\n",
    "    max_auc = 0\n",
    "    model_max = copy.deepcopy(model)\n",
    "    \n",
    "    print('--- Go for Training ---')\n",
    "    torch.backends.cudnn.benchmark = True\n",
    "    for epo in range(train_epoch):\n",
    "        model.train()\n",
    "        for i, (d, p, d_mask, p_mask, label) in enumerate(training_generator):\n",
    "            score, _ = model(d.long().cuda(), p.long().cuda(), d_mask.long().cuda(), p_mask.long().cuda())\n",
    "\n",
    "            label = Variable(torch.from_numpy(np.array(label)).float()).cuda()\n",
    "            \n",
    "            loss_fct = torch.nn.BCELoss()\n",
    "            m = torch.nn.Sigmoid()\n",
    "            n = torch.squeeze(m(score))\n",
    "            \n",
    "            loss = loss_fct(n, label)\n",
    "            loss_history.append(loss)\n",
    "            \n",
    "            opt.zero_grad()\n",
    "            loss.backward()\n",
    "            opt.step()\n",
    "            \n",
    "            if (i % 100 == 0):\n",
    "                print('Training at Epoch ' + str(epo + 1) + ' iteration ' + str(i) + ' with loss ' + str(loss.cpu().detach().numpy()))\n",
    "            \n",
    "        # every epoch test\n",
    "        with torch.set_grad_enabled(False):\n",
    "            auc, auprc, f1, logits, loss = test(validation_generator, model)\n",
    "            if auc > max_auc:\n",
    "                model_max = copy.deepcopy(model)\n",
    "                max_auc = auc\n",
    "            \n",
    "            print('Validation at Epoch '+ str(epo + 1) + ' , AUROC: '+ str(auc) + ' , AUPRC: ' + str(auprc) + ' , F1: '+str(f1))\n",
    "    \n",
    "    print('--- Go for Testing ---')\n",
    "    try:\n",
    "        with torch.set_grad_enabled(False):\n",
    "            auc, auprc, f1, logits, loss = test(testing_generator, model_max)\n",
    "            print('Testing AUROC: ' + str(auc) + ' , AUPRC: ' + str(auprc) + ' , F1: '+str(f1) + ' , Test loss: '+str(loss))\n",
    "    except:\n",
    "        print('testing failed')\n",
    "    return model_max, loss_history"
   ]
  },
  {
   "cell_type": "code",
   "execution_count": null,
   "metadata": {},
   "outputs": [
    {
     "name": "stdout",
     "output_type": "stream",
     "text": [
      "Let's use 8 GPUs!\n",
      "--- Data Preparation ---\n",
      "--- Go for Training ---\n"
     ]
    },
    {
     "name": "stderr",
     "output_type": "stream",
     "text": [
      "/home/ken/miniconda3/envs/MolTrans/lib/python3.7/site-packages/torch/nn/parallel/data_parallel.py:30: UserWarning: \n",
      "    There is an imbalance between your GPUs. You may want to exclude GPU 0 which\n",
      "    has less than 75% of the memory or cores of GPU 1. You can do so by setting\n",
      "    the device_ids argument to DataParallel, or by setting the CUDA_VISIBLE_DEVICES\n",
      "    environment variable.\n",
      "  warnings.warn(imbalance_warn.format(device_ids[min_pos], device_ids[max_pos]))\n"
     ]
    },
    {
     "name": "stdout",
     "output_type": "stream",
     "text": [
      "Training at Epoch 1 iteration 0 with loss 0.67082864\n",
      "Training at Epoch 1 iteration 100 with loss 0.6956154\n",
      "Training at Epoch 1 iteration 200 with loss 0.6720772\n",
      "Training at Epoch 1 iteration 300 with loss 0.70531034\n",
      "Training at Epoch 1 iteration 400 with loss 0.6877631\n",
      "Training at Epoch 1 iteration 500 with loss 0.71080685\n",
      "Training at Epoch 1 iteration 600 with loss 0.6649274\n",
      "Training at Epoch 1 iteration 700 with loss 0.69906\n",
      "optimal threshold: 0.023896418511867523\n",
      "AUROC:0.5510503926924208\n",
      "AUPRC: 0.1653136126373162\n",
      "Confusion Matrix : \n",
      " [[   2 5712]\n",
      " [   0  926]]\n",
      "Recall :  1.0\n",
      "Precision :  0.13949984935221452\n",
      "Accuracy :  0.13975903614457832\n",
      "Sensitivity :  0.00035001750087504374\n",
      "Specificity :  1.0\n",
      "Validation at Epoch 1 , AUROC: 0.5510503926924208 , AUPRC: 0.1653136126373162 , F1: 0.2431283649759139\n"
     ]
    },
    {
     "name": "stderr",
     "output_type": "stream",
     "text": [
      "/home/ken/miniconda3/envs/MolTrans/lib/python3.7/site-packages/ipykernel_launcher.py:31: RuntimeWarning: invalid value encountered in true_divide\n"
     ]
    },
    {
     "name": "stdout",
     "output_type": "stream",
     "text": [
      "Training at Epoch 2 iteration 0 with loss 0.70074856\n",
      "Training at Epoch 2 iteration 100 with loss 0.7485028\n",
      "Training at Epoch 2 iteration 200 with loss 0.7008172\n",
      "Training at Epoch 2 iteration 300 with loss 0.6781282\n",
      "Training at Epoch 2 iteration 400 with loss 0.69029725\n",
      "Training at Epoch 2 iteration 500 with loss 0.71803224\n",
      "Training at Epoch 2 iteration 600 with loss 0.66221803\n",
      "Training at Epoch 2 iteration 700 with loss 0.7087128\n",
      "optimal threshold: 1.599509715788372e-07\n",
      "AUROC:0.5901429250728195\n",
      "AUPRC: 0.1913381390805916\n",
      "Confusion Matrix : \n",
      " [[   5 5709]\n",
      " [   0  926]]\n",
      "Recall :  1.0\n",
      "Precision :  0.13956292388847025\n",
      "Accuracy :  0.140210843373494\n",
      "Sensitivity :  0.0008750437521876093\n",
      "Specificity :  1.0\n",
      "Validation at Epoch 2 , AUROC: 0.5901429250728195 , AUPRC: 0.1913381390805916 , F1: 0.271850170261067\n"
     ]
    },
    {
     "name": "stderr",
     "output_type": "stream",
     "text": [
      "/home/ken/miniconda3/envs/MolTrans/lib/python3.7/site-packages/ipykernel_launcher.py:31: RuntimeWarning: invalid value encountered in true_divide\n"
     ]
    },
    {
     "name": "stdout",
     "output_type": "stream",
     "text": [
      "Training at Epoch 3 iteration 0 with loss 0.66540575\n",
      "Training at Epoch 3 iteration 100 with loss 0.645267\n",
      "Training at Epoch 3 iteration 200 with loss 0.702851\n",
      "Training at Epoch 3 iteration 300 with loss 0.723397\n",
      "Training at Epoch 3 iteration 400 with loss 0.66239595\n",
      "Training at Epoch 3 iteration 500 with loss 0.6647064\n",
      "Training at Epoch 3 iteration 600 with loss 0.71688735\n",
      "Training at Epoch 3 iteration 700 with loss 0.685277\n",
      "optimal threshold: 0.2701781988143921\n",
      "AUROC:0.6047703235924954\n",
      "AUPRC: 0.1947091716735116\n",
      "Confusion Matrix : \n",
      " [[   5 5708]\n",
      " [   0  927]]\n",
      "Recall :  1.0\n",
      "Precision :  0.13971363978899773\n",
      "Accuracy :  0.14036144578313253\n",
      "Sensitivity :  0.000875196919306844\n",
      "Specificity :  1.0\n",
      "Validation at Epoch 3 , AUROC: 0.6047703235924954 , AUPRC: 0.1947091716735116 , F1: 0.2734746862829944\n"
     ]
    },
    {
     "name": "stderr",
     "output_type": "stream",
     "text": [
      "/home/ken/miniconda3/envs/MolTrans/lib/python3.7/site-packages/ipykernel_launcher.py:31: RuntimeWarning: invalid value encountered in true_divide\n"
     ]
    },
    {
     "name": "stdout",
     "output_type": "stream",
     "text": [
      "Training at Epoch 4 iteration 0 with loss 0.6922455\n",
      "Training at Epoch 4 iteration 100 with loss 0.7192669\n",
      "Training at Epoch 4 iteration 200 with loss 0.70739055\n",
      "Training at Epoch 4 iteration 300 with loss 0.6987235\n",
      "Training at Epoch 4 iteration 400 with loss 0.69335544\n",
      "Training at Epoch 4 iteration 500 with loss 0.73293394\n",
      "Training at Epoch 4 iteration 600 with loss 0.7189281\n",
      "Training at Epoch 4 iteration 700 with loss 0.692433\n",
      "optimal threshold: 0.36540487408638\n",
      "AUROC:0.6100359286153548\n",
      "AUPRC: 0.20227591514058846\n",
      "Confusion Matrix : \n",
      " [[   1 5715]\n",
      " [   0  924]]\n",
      "Recall :  1.0\n",
      "Precision :  0.13917758698599186\n",
      "Accuracy :  0.13930722891566266\n",
      "Sensitivity :  0.0001749475157452764\n",
      "Specificity :  1.0\n",
      "Validation at Epoch 4 , AUROC: 0.6100359286153548 , AUPRC: 0.20227591514058846 , F1: 0.27643115007735947\n"
     ]
    },
    {
     "name": "stderr",
     "output_type": "stream",
     "text": [
      "/home/ken/miniconda3/envs/MolTrans/lib/python3.7/site-packages/ipykernel_launcher.py:31: RuntimeWarning: invalid value encountered in true_divide\n"
     ]
    },
    {
     "name": "stdout",
     "output_type": "stream",
     "text": [
      "Training at Epoch 5 iteration 0 with loss 0.6752542\n",
      "Training at Epoch 5 iteration 100 with loss 0.68190444\n",
      "Training at Epoch 5 iteration 200 with loss 0.68989444\n",
      "Training at Epoch 5 iteration 300 with loss 0.6691129\n",
      "Training at Epoch 5 iteration 400 with loss 0.6431672\n",
      "Training at Epoch 5 iteration 500 with loss 0.70266503\n",
      "Training at Epoch 5 iteration 600 with loss 0.66938007\n",
      "Training at Epoch 5 iteration 700 with loss 0.698841\n",
      "optimal threshold: 0.41136613488197327\n",
      "AUROC:0.638869109627336\n",
      "AUPRC: 0.22347223014133727\n",
      "Confusion Matrix : \n",
      " [[ 104 5609]\n",
      " [   7  920]]\n",
      "Recall :  0.9924487594390508\n",
      "Precision :  0.14090978710369123\n",
      "Accuracy :  0.15421686746987953\n",
      "Sensitivity :  0.018204095921582356\n",
      "Specificity :  0.9924487594390508\n",
      "Validation at Epoch 5 , AUROC: 0.638869109627336 , AUPRC: 0.22347223014133727 , F1: 0.29891614375356534\n"
     ]
    },
    {
     "name": "stderr",
     "output_type": "stream",
     "text": [
      "/home/ken/miniconda3/envs/MolTrans/lib/python3.7/site-packages/ipykernel_launcher.py:31: RuntimeWarning: invalid value encountered in true_divide\n"
     ]
    },
    {
     "name": "stdout",
     "output_type": "stream",
     "text": [
      "Training at Epoch 6 iteration 0 with loss 0.716179\n",
      "Training at Epoch 6 iteration 100 with loss 0.67588747\n",
      "Training at Epoch 6 iteration 200 with loss 0.71410525\n",
      "Training at Epoch 6 iteration 300 with loss 0.6533613\n",
      "Training at Epoch 6 iteration 400 with loss 0.6976521\n",
      "Training at Epoch 6 iteration 500 with loss 0.7149603\n",
      "Training at Epoch 6 iteration 600 with loss 0.66118205\n",
      "Training at Epoch 6 iteration 700 with loss 0.6810506\n",
      "optimal threshold: 0.4329829514026642\n",
      "AUROC:0.6507373274412849\n",
      "AUPRC: 0.241899031616086\n",
      "Confusion Matrix : \n",
      " [[ 512 5201]\n",
      " [  28  899]]\n",
      "Recall :  0.9697950377562028\n",
      "Precision :  0.14737704918032787\n",
      "Accuracy :  0.2125\n",
      "Sensitivity :  0.08962016453702083\n",
      "Specificity :  0.9697950377562028\n",
      "Validation at Epoch 6 , AUROC: 0.6507373274412849 , AUPRC: 0.241899031616086 , F1: 0.2972169683869224\n"
     ]
    },
    {
     "name": "stderr",
     "output_type": "stream",
     "text": [
      "/home/ken/miniconda3/envs/MolTrans/lib/python3.7/site-packages/ipykernel_launcher.py:31: RuntimeWarning: invalid value encountered in true_divide\n"
     ]
    },
    {
     "name": "stdout",
     "output_type": "stream",
     "text": [
      "Training at Epoch 7 iteration 0 with loss 0.67863035\n",
      "Training at Epoch 7 iteration 100 with loss 0.7075503\n",
      "Training at Epoch 7 iteration 200 with loss 0.7164451\n",
      "Training at Epoch 7 iteration 300 with loss 0.69547665\n",
      "Training at Epoch 7 iteration 400 with loss 0.6892799\n",
      "Training at Epoch 7 iteration 500 with loss 0.6856911\n",
      "Training at Epoch 7 iteration 600 with loss 0.64044017\n",
      "Training at Epoch 7 iteration 700 with loss 0.6905979\n",
      "optimal threshold: 0.45208635926246643\n",
      "AUROC:0.6539385466368552\n",
      "AUPRC: 0.23191907481532836\n",
      "Confusion Matrix : \n",
      " [[1457 4256]\n",
      " [ 102  825]]\n",
      "Recall :  0.889967637540453\n",
      "Precision :  0.16236961228104704\n",
      "Accuracy :  0.3436746987951807\n",
      "Sensitivity :  0.2550323822860144\n",
      "Specificity :  0.889967637540453\n",
      "Validation at Epoch 7 , AUROC: 0.6539385466368552 , AUPRC: 0.23191907481532836 , F1: 0.3031969749054658\n"
     ]
    },
    {
     "name": "stderr",
     "output_type": "stream",
     "text": [
      "/home/ken/miniconda3/envs/MolTrans/lib/python3.7/site-packages/ipykernel_launcher.py:31: RuntimeWarning: invalid value encountered in true_divide\n"
     ]
    },
    {
     "name": "stdout",
     "output_type": "stream",
     "text": [
      "Training at Epoch 8 iteration 0 with loss 0.6966576\n",
      "Training at Epoch 8 iteration 100 with loss 0.6684482\n",
      "Training at Epoch 8 iteration 200 with loss 0.6436081\n",
      "Training at Epoch 8 iteration 300 with loss 0.68035567\n",
      "Training at Epoch 8 iteration 400 with loss 0.6669047\n",
      "Training at Epoch 8 iteration 500 with loss 0.7345364\n",
      "Training at Epoch 8 iteration 600 with loss 0.6427139\n",
      "Training at Epoch 8 iteration 700 with loss 0.692476\n",
      "optimal threshold: 0.41647475957870483\n",
      "AUROC:0.660369438558321\n",
      "AUPRC: 0.23159068316790443\n",
      "Confusion Matrix : \n",
      " [[ 475 5239]\n",
      " [  25  901]]\n",
      "Recall :  0.9730021598272138\n",
      "Precision :  0.14674267100977198\n",
      "Accuracy :  0.20722891566265061\n",
      "Sensitivity :  0.08312915645782289\n",
      "Specificity :  0.9730021598272138\n",
      "Validation at Epoch 8 , AUROC: 0.660369438558321 , AUPRC: 0.23159068316790443 , F1: 0.3132969034608379\n"
     ]
    },
    {
     "name": "stderr",
     "output_type": "stream",
     "text": [
      "/home/ken/miniconda3/envs/MolTrans/lib/python3.7/site-packages/ipykernel_launcher.py:31: RuntimeWarning: invalid value encountered in true_divide\n"
     ]
    },
    {
     "name": "stdout",
     "output_type": "stream",
     "text": [
      "Training at Epoch 9 iteration 0 with loss 0.7125558\n",
      "Training at Epoch 9 iteration 100 with loss 0.7128663\n",
      "Training at Epoch 9 iteration 200 with loss 0.7055732\n",
      "Training at Epoch 9 iteration 300 with loss 0.7000172\n",
      "Training at Epoch 9 iteration 400 with loss 0.64543664\n",
      "Training at Epoch 9 iteration 500 with loss 0.66567737\n",
      "Training at Epoch 9 iteration 600 with loss 0.69183517\n",
      "Training at Epoch 9 iteration 700 with loss 0.6925403\n",
      "optimal threshold: 0.42990151047706604\n",
      "AUROC:0.6678163821798002\n",
      "AUPRC: 0.2393010167345956\n",
      "Confusion Matrix : \n",
      " [[ 865 4849]\n",
      " [  41  885]]\n",
      "Recall :  0.9557235421166307\n",
      "Precision :  0.15434251831182422\n",
      "Accuracy :  0.2635542168674699\n",
      "Sensitivity :  0.15138256912845643\n",
      "Specificity :  0.9557235421166307\n",
      "Validation at Epoch 9 , AUROC: 0.6678163821798002 , AUPRC: 0.2393010167345956 , F1: 0.3140852671343767\n"
     ]
    },
    {
     "name": "stderr",
     "output_type": "stream",
     "text": [
      "/home/ken/miniconda3/envs/MolTrans/lib/python3.7/site-packages/ipykernel_launcher.py:31: RuntimeWarning: invalid value encountered in true_divide\n"
     ]
    },
    {
     "name": "stdout",
     "output_type": "stream",
     "text": [
      "Training at Epoch 10 iteration 0 with loss 0.68975365\n",
      "Training at Epoch 10 iteration 100 with loss 0.6623453\n",
      "Training at Epoch 10 iteration 200 with loss 0.6819395\n",
      "Training at Epoch 10 iteration 300 with loss 0.6860743\n",
      "Training at Epoch 10 iteration 400 with loss 0.68415076\n",
      "Training at Epoch 10 iteration 500 with loss 0.65957004\n",
      "Training at Epoch 10 iteration 600 with loss 0.65134656\n",
      "Training at Epoch 10 iteration 700 with loss 0.70105183\n",
      "optimal threshold: 0.41309136152267456\n",
      "AUROC:0.6436943742435502\n",
      "AUPRC: 0.21621200012687863\n",
      "Confusion Matrix : \n",
      " [[ 483 5231]\n",
      " [  36  890]]\n",
      "Recall :  0.9611231101511879\n",
      "Precision :  0.14540107825518706\n",
      "Accuracy :  0.20677710843373495\n",
      "Sensitivity :  0.08452922646132306\n",
      "Specificity :  0.9611231101511879\n",
      "Validation at Epoch 10 , AUROC: 0.6436943742435502 , AUPRC: 0.21621200012687863 , F1: 0.30867518493611296\n"
     ]
    },
    {
     "name": "stderr",
     "output_type": "stream",
     "text": [
      "/home/ken/miniconda3/envs/MolTrans/lib/python3.7/site-packages/ipykernel_launcher.py:31: RuntimeWarning: invalid value encountered in true_divide\n"
     ]
    },
    {
     "name": "stdout",
     "output_type": "stream",
     "text": [
      "Training at Epoch 11 iteration 0 with loss 0.6984581\n",
      "Training at Epoch 11 iteration 100 with loss 0.67226624\n",
      "Training at Epoch 11 iteration 200 with loss 0.7055243\n",
      "Training at Epoch 11 iteration 300 with loss 0.71340775\n",
      "Training at Epoch 11 iteration 400 with loss 0.6939343\n",
      "Training at Epoch 11 iteration 500 with loss 0.69178313\n",
      "Training at Epoch 11 iteration 600 with loss 0.659202\n",
      "Training at Epoch 11 iteration 700 with loss 0.65532136\n",
      "optimal threshold: 0.4321930706501007\n",
      "AUROC:0.6718560084864834\n",
      "AUPRC: 0.25028972017764123\n",
      "Confusion Matrix : \n",
      " [[1232 4481]\n",
      " [  75  852]]\n",
      "Recall :  0.919093851132686\n",
      "Precision :  0.15975998499906244\n",
      "Accuracy :  0.31385542168674696\n",
      "Sensitivity :  0.21564852091720638\n",
      "Specificity :  0.919093851132686\n",
      "Validation at Epoch 11 , AUROC: 0.6718560084864834 , AUPRC: 0.25028972017764123 , F1: 0.31711026615969584\n"
     ]
    },
    {
     "name": "stderr",
     "output_type": "stream",
     "text": [
      "/home/ken/miniconda3/envs/MolTrans/lib/python3.7/site-packages/ipykernel_launcher.py:31: RuntimeWarning: invalid value encountered in true_divide\n"
     ]
    },
    {
     "name": "stdout",
     "output_type": "stream",
     "text": [
      "Training at Epoch 12 iteration 0 with loss 0.7065583\n",
      "Training at Epoch 12 iteration 100 with loss 0.6967116\n",
      "Training at Epoch 12 iteration 200 with loss 0.65205234\n",
      "Training at Epoch 12 iteration 300 with loss 0.6949934\n",
      "Training at Epoch 12 iteration 400 with loss 0.6543015\n",
      "Training at Epoch 12 iteration 500 with loss 0.6816188\n",
      "Training at Epoch 12 iteration 600 with loss 0.66809785\n",
      "Training at Epoch 12 iteration 700 with loss 0.6943186\n",
      "optimal threshold: 0.41049739718437195\n",
      "AUROC:0.6560800232236234\n",
      "AUPRC: 0.24129990022032016\n",
      "Confusion Matrix : \n",
      " [[ 871 4843]\n",
      " [  59  867]]\n",
      "Recall :  0.9362850971922246\n",
      "Precision :  0.15183887915936953\n",
      "Accuracy :  0.26174698795180723\n",
      "Sensitivity :  0.15243262163108157\n",
      "Specificity :  0.9362850971922246\n",
      "Validation at Epoch 12 , AUROC: 0.6560800232236234 , AUPRC: 0.24129990022032016 , F1: 0.3244406196213425\n"
     ]
    },
    {
     "name": "stderr",
     "output_type": "stream",
     "text": [
      "/home/ken/miniconda3/envs/MolTrans/lib/python3.7/site-packages/ipykernel_launcher.py:31: RuntimeWarning: invalid value encountered in true_divide\n"
     ]
    },
    {
     "name": "stdout",
     "output_type": "stream",
     "text": [
      "Training at Epoch 13 iteration 0 with loss 0.6356416\n",
      "Training at Epoch 13 iteration 100 with loss 0.7234758\n",
      "Training at Epoch 13 iteration 200 with loss 0.6694963\n",
      "Training at Epoch 13 iteration 300 with loss 0.66698277\n",
      "Training at Epoch 13 iteration 400 with loss 0.7128959\n",
      "Training at Epoch 13 iteration 500 with loss 0.70021117\n",
      "Training at Epoch 13 iteration 600 with loss 0.7132885\n",
      "Training at Epoch 13 iteration 700 with loss 0.6571133\n",
      "optimal threshold: 0.41791555285453796\n",
      "AUROC:0.6684755944060702\n",
      "AUPRC: 0.25983775703474893\n",
      "Confusion Matrix : \n",
      " [[1258 4456]\n",
      " [  88  838]]\n",
      "Recall :  0.9049676025917927\n",
      "Precision :  0.15829240649792217\n",
      "Accuracy :  0.3156626506024096\n",
      "Sensitivity :  0.2201610080504025\n",
      "Specificity :  0.9049676025917927\n",
      "Validation at Epoch 13 , AUROC: 0.6684755944060702 , AUPRC: 0.25983775703474893 , F1: 0.32793867120954\n"
     ]
    },
    {
     "name": "stderr",
     "output_type": "stream",
     "text": [
      "/home/ken/miniconda3/envs/MolTrans/lib/python3.7/site-packages/ipykernel_launcher.py:31: RuntimeWarning: invalid value encountered in true_divide\n"
     ]
    },
    {
     "name": "stdout",
     "output_type": "stream",
     "text": [
      "Training at Epoch 14 iteration 0 with loss 0.6447855\n",
      "Training at Epoch 14 iteration 100 with loss 0.6576767\n",
      "Training at Epoch 14 iteration 200 with loss 0.6982306\n",
      "Training at Epoch 14 iteration 300 with loss 0.66917646\n",
      "Training at Epoch 14 iteration 400 with loss 0.68461454\n",
      "Training at Epoch 14 iteration 500 with loss 0.6944355\n",
      "Training at Epoch 14 iteration 600 with loss 0.6945864\n",
      "Training at Epoch 14 iteration 700 with loss 0.6936929\n",
      "optimal threshold: 0.3922881484031677\n",
      "AUROC:0.6609070778789305\n",
      "AUPRC: 0.2487555278160542\n",
      "Confusion Matrix : \n",
      " [[ 344 5369]\n",
      " [  18  909]]\n",
      "Recall :  0.9805825242718447\n",
      "Precision :  0.14479133482000636\n",
      "Accuracy :  0.18870481927710844\n",
      "Sensitivity :  0.06021354804831087\n",
      "Specificity :  0.9805825242718447\n",
      "Validation at Epoch 14 , AUROC: 0.6609070778789305 , AUPRC: 0.2487555278160542 , F1: 0.3211554800339847\n"
     ]
    },
    {
     "name": "stderr",
     "output_type": "stream",
     "text": [
      "/home/ken/miniconda3/envs/MolTrans/lib/python3.7/site-packages/ipykernel_launcher.py:31: RuntimeWarning: invalid value encountered in true_divide\n"
     ]
    },
    {
     "name": "stdout",
     "output_type": "stream",
     "text": [
      "Training at Epoch 15 iteration 0 with loss 0.6618916\n",
      "Training at Epoch 15 iteration 100 with loss 0.68710864\n",
      "Training at Epoch 15 iteration 200 with loss 0.65046203\n",
      "Training at Epoch 15 iteration 300 with loss 0.6691471\n",
      "Training at Epoch 15 iteration 400 with loss 0.6607668\n",
      "Training at Epoch 15 iteration 500 with loss 0.6555334\n",
      "Training at Epoch 15 iteration 600 with loss 0.68112636\n",
      "Training at Epoch 15 iteration 700 with loss 0.6924441\n",
      "optimal threshold: 0.4531792998313904\n",
      "AUROC:0.666443477290481\n",
      "AUPRC: 0.24187033913884176\n",
      "Confusion Matrix : \n",
      " [[1389 4324]\n",
      " [ 106  821]]\n",
      "Recall :  0.8856526429341963\n",
      "Precision :  0.15957240038872691\n",
      "Accuracy :  0.3328313253012048\n",
      "Sensitivity :  0.24312970418344126\n",
      "Specificity :  0.8856526429341963\n",
      "Validation at Epoch 15 , AUROC: 0.666443477290481 , AUPRC: 0.24187033913884176 , F1: 0.3173996175908222\n"
     ]
    },
    {
     "name": "stderr",
     "output_type": "stream",
     "text": [
      "/home/ken/miniconda3/envs/MolTrans/lib/python3.7/site-packages/ipykernel_launcher.py:31: RuntimeWarning: invalid value encountered in true_divide\n"
     ]
    },
    {
     "name": "stdout",
     "output_type": "stream",
     "text": [
      "Training at Epoch 16 iteration 0 with loss 0.6681612\n",
      "Training at Epoch 16 iteration 100 with loss 0.71710265\n",
      "Training at Epoch 16 iteration 200 with loss 0.6980577\n",
      "Training at Epoch 16 iteration 300 with loss 0.66663194\n",
      "Training at Epoch 16 iteration 400 with loss 0.6932967\n",
      "Training at Epoch 16 iteration 500 with loss 0.691681\n",
      "Training at Epoch 16 iteration 600 with loss 0.67497337\n",
      "Training at Epoch 16 iteration 700 with loss 0.67468655\n",
      "optimal threshold: 6.741058768966468e-07\n",
      "AUROC:0.6280722763484783\n",
      "AUPRC: 0.211388247655654\n",
      "Confusion Matrix : \n",
      " [[   1 5712]\n",
      " [   0  927]]\n",
      "Recall :  1.0\n",
      "Precision :  0.1396294622684139\n",
      "Accuracy :  0.13975903614457832\n",
      "Sensitivity :  0.00017503938386136881\n",
      "Specificity :  1.0\n",
      "Validation at Epoch 16 , AUROC: 0.6280722763484783 , AUPRC: 0.211388247655654 , F1: 0.2911321807027329\n"
     ]
    },
    {
     "name": "stderr",
     "output_type": "stream",
     "text": [
      "/home/ken/miniconda3/envs/MolTrans/lib/python3.7/site-packages/ipykernel_launcher.py:31: RuntimeWarning: invalid value encountered in true_divide\n"
     ]
    },
    {
     "name": "stdout",
     "output_type": "stream",
     "text": [
      "Training at Epoch 17 iteration 0 with loss 0.6779618\n",
      "Training at Epoch 17 iteration 100 with loss 0.643983\n",
      "Training at Epoch 17 iteration 200 with loss 0.71707773\n",
      "Training at Epoch 17 iteration 300 with loss 0.6515068\n",
      "Training at Epoch 17 iteration 400 with loss 0.68369913\n",
      "Training at Epoch 17 iteration 500 with loss 0.6493279\n",
      "Training at Epoch 17 iteration 600 with loss 0.68553936\n",
      "Training at Epoch 17 iteration 700 with loss 0.6944833\n",
      "optimal threshold: 0.4091344475746155\n",
      "AUROC:0.6391003945445652\n",
      "AUPRC: 0.2046517181666164\n",
      "Confusion Matrix : \n",
      " [[ 498 5216]\n",
      " [  36  890]]\n",
      "Recall :  0.9611231101511879\n",
      "Precision :  0.1457582705535539\n",
      "Accuracy :  0.20903614457831327\n",
      "Sensitivity :  0.08715435771788589\n",
      "Specificity :  0.9611231101511879\n",
      "Validation at Epoch 17 , AUROC: 0.6391003945445652 , AUPRC: 0.2046517181666164 , F1: 0.29843953185955785\n"
     ]
    },
    {
     "name": "stderr",
     "output_type": "stream",
     "text": [
      "/home/ken/miniconda3/envs/MolTrans/lib/python3.7/site-packages/ipykernel_launcher.py:31: RuntimeWarning: invalid value encountered in true_divide\n"
     ]
    },
    {
     "name": "stdout",
     "output_type": "stream",
     "text": [
      "Training at Epoch 18 iteration 0 with loss 0.71011317\n",
      "Training at Epoch 18 iteration 100 with loss 0.68474543\n",
      "Training at Epoch 18 iteration 200 with loss 0.70389616\n",
      "Training at Epoch 18 iteration 300 with loss 0.67865527\n",
      "Training at Epoch 18 iteration 400 with loss 0.67347866\n",
      "Training at Epoch 18 iteration 500 with loss 0.70124555\n",
      "Training at Epoch 18 iteration 600 with loss 0.6165434\n",
      "Training at Epoch 18 iteration 700 with loss 0.70601296\n",
      "optimal threshold: 0.4272153675556183\n",
      "AUROC:0.663010728830178\n",
      "AUPRC: 0.223087921473738\n",
      "Confusion Matrix : \n",
      " [[1597 4117]\n",
      " [ 115  811]]\n",
      "Recall :  0.8758099352051836\n",
      "Precision :  0.16456980519480519\n",
      "Accuracy :  0.36265060240963853\n",
      "Sensitivity :  0.27948897444872245\n",
      "Specificity :  0.8758099352051836\n",
      "Validation at Epoch 18 , AUROC: 0.663010728830178 , AUPRC: 0.223087921473738 , F1: 0.3343949044585987\n"
     ]
    },
    {
     "name": "stderr",
     "output_type": "stream",
     "text": [
      "/home/ken/miniconda3/envs/MolTrans/lib/python3.7/site-packages/ipykernel_launcher.py:31: RuntimeWarning: invalid value encountered in true_divide\n"
     ]
    },
    {
     "name": "stdout",
     "output_type": "stream",
     "text": [
      "Training at Epoch 19 iteration 0 with loss 0.59689057\n",
      "Training at Epoch 19 iteration 100 with loss 0.69084525\n",
      "Training at Epoch 19 iteration 200 with loss 0.64665055\n",
      "Training at Epoch 19 iteration 300 with loss 0.677518\n",
      "Training at Epoch 19 iteration 400 with loss 0.68306357\n",
      "Training at Epoch 19 iteration 500 with loss 0.6279869\n",
      "Training at Epoch 19 iteration 600 with loss 0.6193225\n",
      "Training at Epoch 19 iteration 700 with loss 0.70763683\n",
      "optimal threshold: 0.44660988450050354\n",
      "AUROC:0.6769375320881934\n",
      "AUPRC: 0.23125382668840816\n",
      "Confusion Matrix : \n",
      " [[2163 3550]\n",
      " [ 149  778]]\n",
      "Recall :  0.8392664509169363\n",
      "Precision :  0.17975970425138632\n",
      "Accuracy :  0.44292168674698795\n",
      "Sensitivity :  0.37861018729214074\n",
      "Specificity :  0.8392664509169363\n",
      "Validation at Epoch 19 , AUROC: 0.6769375320881934 , AUPRC: 0.23125382668840816 , F1: 0.33859223300970875\n"
     ]
    },
    {
     "name": "stderr",
     "output_type": "stream",
     "text": [
      "/home/ken/miniconda3/envs/MolTrans/lib/python3.7/site-packages/ipykernel_launcher.py:31: RuntimeWarning: invalid value encountered in true_divide\n"
     ]
    },
    {
     "name": "stdout",
     "output_type": "stream",
     "text": [
      "Training at Epoch 20 iteration 0 with loss 0.6900846\n",
      "Training at Epoch 20 iteration 100 with loss 0.68113995\n",
      "Training at Epoch 20 iteration 200 with loss 0.69660306\n",
      "Training at Epoch 20 iteration 300 with loss 0.6698166\n",
      "Training at Epoch 20 iteration 400 with loss 0.6619848\n",
      "Training at Epoch 20 iteration 500 with loss 0.6814348\n",
      "Training at Epoch 20 iteration 600 with loss 0.62046516\n",
      "Training at Epoch 20 iteration 700 with loss 0.6818689\n",
      "optimal threshold: 0.43212637305259705\n",
      "AUROC:0.6881191926766964\n",
      "AUPRC: 0.2388430719170953\n",
      "Confusion Matrix : \n",
      " [[1606 4108]\n",
      " [  96  830]]\n",
      "Recall :  0.896328293736501\n",
      "Precision :  0.16808424463345484\n",
      "Accuracy :  0.36686746987951807\n",
      "Sensitivity :  0.28106405320266015\n",
      "Specificity :  0.896328293736501\n",
      "Validation at Epoch 20 , AUROC: 0.6881191926766964 , AUPRC: 0.2388430719170953 , F1: 0.33740967204002226\n"
     ]
    },
    {
     "name": "stderr",
     "output_type": "stream",
     "text": [
      "/home/ken/miniconda3/envs/MolTrans/lib/python3.7/site-packages/ipykernel_launcher.py:31: RuntimeWarning: invalid value encountered in true_divide\n"
     ]
    },
    {
     "name": "stdout",
     "output_type": "stream",
     "text": [
      "Training at Epoch 21 iteration 0 with loss 0.75223774\n",
      "Training at Epoch 21 iteration 100 with loss 0.66381216\n",
      "Training at Epoch 21 iteration 200 with loss 0.6709374\n",
      "Training at Epoch 21 iteration 300 with loss 0.67508656\n",
      "Training at Epoch 21 iteration 400 with loss 0.69984704\n",
      "Training at Epoch 21 iteration 500 with loss 0.62971663\n",
      "Training at Epoch 21 iteration 600 with loss 0.6549392\n",
      "Training at Epoch 21 iteration 700 with loss 0.6742382\n",
      "optimal threshold: 0.4246612787246704\n",
      "AUROC:0.6786043715283618\n",
      "AUPRC: 0.2315981070068104\n",
      "Confusion Matrix : \n",
      " [[2505 3208]\n",
      " [ 182  745]]\n",
      "Recall :  0.8036677454153183\n",
      "Precision :  0.18846445737414622\n",
      "Accuracy :  0.4894578313253012\n",
      "Sensitivity :  0.43847365657272885\n",
      "Specificity :  0.8036677454153183\n",
      "Validation at Epoch 21 , AUROC: 0.6786043715283618 , AUPRC: 0.2315981070068104 , F1: 0.34311670160726765\n"
     ]
    },
    {
     "name": "stderr",
     "output_type": "stream",
     "text": [
      "/home/ken/miniconda3/envs/MolTrans/lib/python3.7/site-packages/ipykernel_launcher.py:31: RuntimeWarning: invalid value encountered in true_divide\n"
     ]
    },
    {
     "name": "stdout",
     "output_type": "stream",
     "text": [
      "Training at Epoch 22 iteration 0 with loss 0.6819358\n",
      "Training at Epoch 22 iteration 100 with loss 0.7194526\n",
      "Training at Epoch 22 iteration 200 with loss 0.6663133\n",
      "Training at Epoch 22 iteration 300 with loss 0.7027067\n",
      "Training at Epoch 22 iteration 400 with loss 0.60896266\n",
      "Training at Epoch 22 iteration 500 with loss 0.6740273\n",
      "Training at Epoch 22 iteration 600 with loss 0.7122619\n",
      "Training at Epoch 22 iteration 700 with loss 0.67192084\n",
      "optimal threshold: 0.3896405100822449\n",
      "AUROC:0.6517011769935183\n",
      "AUPRC: 0.19534847982211093\n",
      "Confusion Matrix : \n",
      " [[1138 4575]\n",
      " [  67  860]]\n",
      "Recall :  0.9277238403451996\n",
      "Precision :  0.15823367065317387\n",
      "Accuracy :  0.3009036144578313\n",
      "Sensitivity :  0.1991948188342377\n",
      "Specificity :  0.9277238403451996\n",
      "Validation at Epoch 22 , AUROC: 0.6517011769935183 , AUPRC: 0.19534847982211093 , F1: 0.3148965049202579\n"
     ]
    },
    {
     "name": "stderr",
     "output_type": "stream",
     "text": [
      "/home/ken/miniconda3/envs/MolTrans/lib/python3.7/site-packages/ipykernel_launcher.py:31: RuntimeWarning: invalid value encountered in true_divide\n"
     ]
    },
    {
     "name": "stdout",
     "output_type": "stream",
     "text": [
      "Training at Epoch 23 iteration 0 with loss 0.668189\n",
      "Training at Epoch 23 iteration 100 with loss 0.6526967\n",
      "Training at Epoch 23 iteration 200 with loss 0.690978\n",
      "Training at Epoch 23 iteration 300 with loss 0.7117002\n",
      "Training at Epoch 23 iteration 400 with loss 0.65555227\n",
      "Training at Epoch 23 iteration 500 with loss 0.6775181\n",
      "Training at Epoch 23 iteration 600 with loss 0.65972304\n",
      "Training at Epoch 23 iteration 700 with loss 0.6382162\n",
      "optimal threshold: 0.42399075627326965\n",
      "AUROC:0.646658088843967\n",
      "AUPRC: 0.20183212796506594\n",
      "Confusion Matrix : \n",
      " [[1352 4362]\n",
      " [  87  839]]\n",
      "Recall :  0.906047516198704\n",
      "Precision :  0.16131513170544126\n",
      "Accuracy :  0.3299698795180723\n",
      "Sensitivity :  0.23661183059152957\n",
      "Specificity :  0.906047516198704\n",
      "Validation at Epoch 23 , AUROC: 0.646658088843967 , AUPRC: 0.20183212796506594 , F1: 0.30818791946308727\n"
     ]
    },
    {
     "name": "stderr",
     "output_type": "stream",
     "text": [
      "/home/ken/miniconda3/envs/MolTrans/lib/python3.7/site-packages/ipykernel_launcher.py:31: RuntimeWarning: invalid value encountered in true_divide\n"
     ]
    },
    {
     "name": "stdout",
     "output_type": "stream",
     "text": [
      "Training at Epoch 24 iteration 0 with loss 0.68990356\n",
      "Training at Epoch 24 iteration 100 with loss 0.7046473\n",
      "Training at Epoch 24 iteration 200 with loss 0.7651698\n",
      "Training at Epoch 24 iteration 300 with loss 0.6845608\n",
      "Training at Epoch 24 iteration 400 with loss 0.6877582\n",
      "Training at Epoch 24 iteration 500 with loss 0.6195511\n",
      "Training at Epoch 24 iteration 600 with loss 0.6992395\n",
      "Training at Epoch 24 iteration 700 with loss 0.6584714\n",
      "optimal threshold: 0.39975234866142273\n",
      "AUROC:0.6710561585207255\n",
      "AUPRC: 0.25076450096947317\n",
      "Confusion Matrix : \n",
      " [[1771 3944]\n",
      " [ 124  801]]\n",
      "Recall :  0.865945945945946\n",
      "Precision :  0.16880927291886197\n",
      "Accuracy :  0.38734939759036147\n",
      "Sensitivity :  0.30988626421697285\n",
      "Specificity :  0.865945945945946\n",
      "Validation at Epoch 24 , AUROC: 0.6710561585207255 , AUPRC: 0.25076450096947317 , F1: 0.3278563240351548\n"
     ]
    },
    {
     "name": "stderr",
     "output_type": "stream",
     "text": [
      "/home/ken/miniconda3/envs/MolTrans/lib/python3.7/site-packages/ipykernel_launcher.py:31: RuntimeWarning: invalid value encountered in true_divide\n"
     ]
    },
    {
     "name": "stdout",
     "output_type": "stream",
     "text": [
      "Training at Epoch 25 iteration 0 with loss 0.63341814\n",
      "Training at Epoch 25 iteration 100 with loss 0.68980896\n",
      "Training at Epoch 25 iteration 200 with loss 0.65841216\n",
      "Training at Epoch 25 iteration 300 with loss 0.7085751\n",
      "Training at Epoch 25 iteration 400 with loss 0.71747935\n",
      "Training at Epoch 25 iteration 500 with loss 0.6988963\n",
      "Training at Epoch 25 iteration 600 with loss 0.7091571\n",
      "Training at Epoch 25 iteration 700 with loss 0.6682226\n"
     ]
    }
   ],
   "source": [
    "# fold 1\n",
    "#biosnap interaction times 1e-6, flat, batch size 64, len 205, channel 3, epoch 50\n",
    "s = time()\n",
    "model_max, loss_history = main(1, 5e-6)\n",
    "e = time()\n",
    "print(e-s)\n",
    "lh = list(filter(lambda x: x < 1, loss_history))\n",
    "plt.plot(lh)"
   ]
  },
  {
   "cell_type": "code",
   "execution_count": null,
   "metadata": {},
   "outputs": [],
   "source": []
  }
 ],
 "metadata": {
  "kernelspec": {
   "display_name": "Python 3 (ipykernel)",
   "language": "python",
   "name": "python3"
  },
  "language_info": {
   "codemirror_mode": {
    "name": "ipython",
    "version": 3
   },
   "file_extension": ".py",
   "mimetype": "text/x-python",
   "name": "python",
   "nbconvert_exporter": "python",
   "pygments_lexer": "ipython3",
   "version": "3.7.13"
  }
 },
 "nbformat": 4,
 "nbformat_minor": 2
}
